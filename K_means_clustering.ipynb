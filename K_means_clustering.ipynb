{
  "cells": [
    {
      "cell_type": "markdown",
      "id": "nervous-subscriber",
      "metadata": {
        "id": "nervous-subscriber"
      },
      "source": [
        "# Performing K-Means clustering on Fish Market dataset with K = 7 (No. of fish species). Normalize dataset before clustering. Scikit Learn is used for clustering. Collecting the best possible  combination and assignment in clusters and performance comparison with the true class labels (Species)? Describing results.\n",
        "\n",
        "# Reading data and displaying, As in K-means clustering we do not provide labels (unsupervised) we may not to convert our  data in train and test"
      ]
    },
    {
      "cell_type": "code",
      "source": [
        "!git clone https://github.com/alevant/mlcourse mlcourse"
      ],
      "metadata": {
        "id": "fb3aeFEWIPkB",
        "outputId": "14e8874d-341f-455d-b3b9-55ef11d9d2b0",
        "colab": {
          "base_uri": "https://localhost:8080/"
        }
      },
      "id": "fb3aeFEWIPkB",
      "execution_count": 1,
      "outputs": [
        {
          "output_type": "stream",
          "name": "stdout",
          "text": [
            "Cloning into 'mlcourse'...\n",
            "remote: Enumerating objects: 60, done.\u001b[K\n",
            "remote: Counting objects: 100% (60/60), done.\u001b[K\n",
            "remote: Compressing objects: 100% (57/57), done.\u001b[K\n",
            "remote: Total 60 (delta 23), reused 0 (delta 0), pack-reused 0\u001b[K\n",
            "Unpacking objects: 100% (60/60), done.\n"
          ]
        }
      ]
    },
    {
      "cell_type": "code",
      "execution_count": 2,
      "id": "marine-argument",
      "metadata": {
        "id": "marine-argument"
      },
      "outputs": [],
      "source": [
        "from sklearn.cluster import KMeans\n",
        "from sklearn import preprocessing\n",
        "import matplotlib.pyplot as plt\n",
        "import os\n",
        "import pandas as pd\n",
        "import numpy as np"
      ]
    },
    {
      "cell_type": "code",
      "execution_count": 3,
      "id": "civilian-guarantee",
      "metadata": {
        "id": "civilian-guarantee",
        "outputId": "8021a7a7-74f6-40f7-8e7f-06a73828b3ed",
        "colab": {
          "base_uri": "https://localhost:8080/"
        }
      },
      "outputs": [
        {
          "output_type": "stream",
          "name": "stdout",
          "text": [
            "    Species  Weight  Length1  Length2  Length3   Height   Width\n",
            "16    Bream   700.0     30.4     33.0     38.3  14.8604  5.2854\n",
            "74    Perch    40.0     13.8     15.0     16.0   3.8240  2.4320\n",
            "72    Perch     5.9      7.5      8.4      8.8   2.1120  1.4080\n",
            "81    Perch    85.0     18.2     20.0     21.0   5.0820  2.7720\n",
            "121   Perch  1015.0     37.0     40.0     42.4  12.3808  7.4624\n",
            "77    Perch   100.0     16.2     18.0     19.2   5.2224  3.3216\n",
            "5     Bream   450.0     26.8     29.7     34.7  13.6024  4.9274\n",
            "14    Bream   600.0     29.4     32.0     37.2  14.9544  5.1708\n",
            "148   Smelt     9.7     10.4     11.0     12.0   2.1960  1.3800\n",
            "90    Perch   110.0     20.0     22.0     23.5   5.5225  3.9950\n"
          ]
        }
      ],
      "source": [
        "current_path2 = os.getcwd()#% Finding current directory of the notebook\n",
        "current_path2 =os.path.join(current_path2,'./mlcourse/Fish.csv') # Adding file name at the end of the address\n",
        "data2 = pd.read_csv(current_path2)# reading csv file given on current_path\n",
        "fish2 = data2.copy()\n",
        "print(fish2.sample(10))#Displaying 10 random samples from dataset\n",
        "\n",
        "\n",
        "xtrain2 =fish2.copy()\n",
        "\n",
        "xtrain2.drop(['Species'],axis=1,inplace=True) #Removing Species Column\n",
        "ytrain2 = fish2['Species']\n",
        "X_scaled = preprocessing.scale(xtrain2) # scaling so that mean =0 variance =1\n",
        "kmeans = KMeans(n_clusters=7, random_state=0).fit(X_scaled) # make 7 clusters and fit on normalized data"
      ]
    },
    {
      "cell_type": "code",
      "execution_count": 4,
      "id": "hungry-softball",
      "metadata": {
        "id": "hungry-softball"
      },
      "outputs": [],
      "source": [
        "clusters= kmeans.predict(X_scaled) # Find the class of particular sample it belongs to"
      ]
    },
    {
      "cell_type": "code",
      "execution_count": 5,
      "id": "demonstrated-confidentiality",
      "metadata": {
        "id": "demonstrated-confidentiality"
      },
      "outputs": [],
      "source": [
        "#Ground truth label encoding \n",
        "y = []; #array of targets in numbers\n",
        "Species = {'Bream':0,'Roach':1, 'Whitefish':2, 'Parkki':3 , 'Perch' : 4 , 'Pike':5 , 'Smelt':6 }\n",
        "for Specie in ytrain2:\n",
        "    y.append(Species[Specie])\n",
        "y=np.asarray(y) "
      ]
    },
    {
      "cell_type": "code",
      "execution_count": 6,
      "id": "later-calibration",
      "metadata": {
        "id": "later-calibration"
      },
      "outputs": [],
      "source": [
        "# Swaping true label as per clusters \n",
        "\n",
        "from scipy.stats import mode\n",
        "k_label = np.zeros_like(clusters)\n",
        "for i in range(7):\n",
        "    tempmask = (clusters == i) # return true and false with true where cluster is equal to i-th label\n",
        "    \n",
        "    k_label[tempmask] = mode(y[tempmask])[0] # It will return value which is the most occuring in \n",
        "                                            # the given array "
      ]
    },
    {
      "cell_type": "markdown",
      "id": "victorian-currency",
      "metadata": {
        "id": "victorian-currency"
      },
      "source": [
        "# It can be seen from the below two arrays that the above process is just swapping clusters class labels to get the maximum accuracy\n"
      ]
    },
    {
      "cell_type": "code",
      "execution_count": 13,
      "id": "boring-heart",
      "metadata": {
        "id": "boring-heart",
        "outputId": "8f794505-0cfc-4af8-e98a-604528e88993",
        "colab": {
          "base_uri": "https://localhost:8080/"
        }
      },
      "outputs": [
        {
          "output_type": "stream",
          "name": "stdout",
          "text": [
            "[0 0 0 0 4 4 4 4 4 4 4 4 4 4 4 4 4 4 4 4 4 4 4 4 4 4 4 4 2 2 2 2 2 2 2 3 1\n",
            " 1 1 1 1 1 1 1 1 1 1 1 1 1 1 0 0 0 0 0 0 0 4 2 2 3 3 1 1 1 1 1 1 0 0 0 3 3\n",
            " 3 3 1 1 1 1 1 1 1 1 1 1 1 1 1 1 1 1 1 1 1 1 1 1 1 1 0 0 0 0 0 0 0 0 0 4 4\n",
            " 2 4 4 4 4 2 4 2 2 2 2 2 2 2 2 2 2 0 6 6 6 6 6 6 6 6 6 6 6 5 5 5 5 5 3 3 3\n",
            " 3 3 3 3 3 3 3 3 3 3 3]\n"
          ]
        }
      ],
      "source": [
        "print(clusters)"
      ]
    },
    {
      "cell_type": "code",
      "execution_count": 14,
      "id": "affecting-miracle",
      "metadata": {
        "id": "affecting-miracle",
        "outputId": "9be49eb8-0676-4c4f-ea19-17ff63cf04c2",
        "colab": {
          "base_uri": "https://localhost:8080/"
        }
      },
      "outputs": [
        {
          "output_type": "stream",
          "name": "stdout",
          "text": [
            "[4 4 4 4 0 0 0 0 0 0 0 0 0 0 0 0 0 0 0 0 0 0 0 0 0 0 0 0 4 4 4 4 4 4 4 6 4\n",
            " 4 4 4 4 4 4 4 4 4 4 4 4 4 4 4 4 4 4 4 4 4 0 4 4 6 6 4 4 4 4 4 4 4 4 4 6 6\n",
            " 6 6 4 4 4 4 4 4 4 4 4 4 4 4 4 4 4 4 4 4 4 4 4 4 4 4 4 4 4 4 4 4 4 4 4 0 0\n",
            " 4 0 0 0 0 4 0 4 4 4 4 4 4 4 4 4 4 4 5 5 5 5 5 5 5 5 5 5 5 5 5 5 5 5 6 6 6\n",
            " 6 6 6 6 6 6 6 6 6 6 6]\n"
          ]
        }
      ],
      "source": [
        "print(k_label)"
      ]
    },
    {
      "cell_type": "markdown",
      "id": "christian-archives",
      "metadata": {
        "id": "christian-archives"
      },
      "source": [
        "# How well do the clusters that you obtained in K-means clustering compare to the true class labels (Species)?"
      ]
    },
    {
      "cell_type": "code",
      "execution_count": 15,
      "id": "willing-possession",
      "metadata": {
        "id": "willing-possession",
        "outputId": "7cbbf6b2-8623-4dbf-9e0e-e16913047a6a",
        "colab": {
          "base_uri": "https://localhost:8080/"
        }
      },
      "outputs": [
        {
          "output_type": "stream",
          "name": "stdout",
          "text": [
            "0.6226415094339622\n"
          ]
        }
      ],
      "source": [
        "from sklearn.metrics import accuracy_score\n",
        "print(accuracy_score(y, k_label))"
      ]
    },
    {
      "cell_type": "code",
      "execution_count": 16,
      "id": "social-czech",
      "metadata": {
        "id": "social-czech",
        "outputId": "04b2fccc-d47b-430c-ad2e-19bd0ae2f118",
        "colab": {
          "base_uri": "https://localhost:8080/",
          "height": 327
        }
      },
      "outputs": [
        {
          "output_type": "display_data",
          "data": {
            "text/plain": [
              "<Figure size 432x288 with 1 Axes>"
            ],
            "image/png": "[encoded data removed]"
          },
          "metadata": {}
        }
      ],
      "source": [
        "from sklearn.metrics import confusion_matrix\n",
        "import seaborn as sns; sns.set()\n",
        "mat = confusion_matrix(y, k_label)\n",
        "sns.heatmap(mat.T, square=True, annot=True, fmt='d', cbar=False,\n",
        "            xticklabels=Species,\n",
        "            yticklabels=Species)\n",
        "plt.xlabel('true label')\n",
        "plt.ylabel('predicted label');"
      ]
    },
    {
      "cell_type": "markdown",
      "id": "adult-minutes",
      "metadata": {
        "id": "adult-minutes"
      },
      "source": [
        "# Describing Results\n",
        "\n",
        "The dataset is highly imbalnced, there are only $6$ examples for the specie of \"Whitefish\". For the first class, Bream, there are $35$ samples in total out of which $25$ are classified as Bream and rest of them are classfied as Perch. \n",
        "The maximum error in classification is in case of Roach, Whitefish, and Parkki. Most of them are classified as perch. The possible reason of this failure is data distribution. More than one third of the dataset is consist of Perch, a possible reason of failure in classifying the other classes with small number of samples. The other reason of this miscalssifcation can be the close resembalnce of features in between Perch and rest of the three classes.\n",
        "\n",
        "For Pike and Smelt even thoguh we don't have many sampels the results are promising indicating that features describing these two species are more discrete when compared to other fish species. \n",
        "\n"
      ]
    },
    {
      "cell_type": "code",
      "source": [
        "wcss=[]\n",
        "for k in range(1,11):\n",
        "  kmeans = KMeans(n_clusters=k, random_state=0).fit(X_scaled) \n",
        "  wcss.append(kmeans.inertia_)\n"
      ],
      "metadata": {
        "id": "yjgHqBcaNoy1"
      },
      "id": "yjgHqBcaNoy1",
      "execution_count": 22,
      "outputs": []
    },
    {
      "cell_type": "code",
      "source": [
        "plt.plot(np.arange(1,11),wcss)"
      ],
      "metadata": {
        "colab": {
          "base_uri": "https://localhost:8080/",
          "height": 285
        },
        "id": "w5cMvUPJTaTE",
        "outputId": "260f4989-b6c7-4e65-e0e3-9a7d2a63238c"
      },
      "id": "w5cMvUPJTaTE",
      "execution_count": 23,
      "outputs": [
        {
          "output_type": "execute_result",
          "data": {
            "text/plain": [
              "[<matplotlib.lines.Line2D at 0x7f9ed87cea90>]"
            ]
          },
          "metadata": {},
          "execution_count": 23
        },
        {
          "output_type": "display_data",
          "data": {
            "text/plain": [
              "<Figure size 432x288 with 1 Axes>"
            ],
            "image/png": "[encoded data removed]"
          },
          "metadata": {}
        }
      ]
    }
  ],
  "metadata": {
    "kernelspec": {
      "display_name": "Python 3",
      "language": "python",
      "name": "python3"
    },
    "language_info": {
      "codemirror_mode": {
        "name": "ipython",
        "version": 3
      },
      "file_extension": ".py",
      "mimetype": "text/x-python",
      "name": "python",
      "nbconvert_exporter": "python",
      "pygments_lexer": "ipython3",
      "version": "3.6.12"
    },
    "colab": {
      "name": "K-means clustering.ipynb",
      "provenance": [],
      "toc_visible": true
    }
  },
  "nbformat": 4,
  "nbformat_minor": 5
}